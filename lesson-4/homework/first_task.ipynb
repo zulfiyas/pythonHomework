{
 "cells": [
  {
   "cell_type": "code",
   "execution_count": 1,
   "metadata": {},
   "outputs": [
    {
     "name": "stdout",
     "output_type": "stream",
     "text": [
      "[1, 1, 3, 4]\n"
     ]
    }
   ],
   "source": [
    "def uncommon_elements(list1, list2):\n",
    "    uncommon = []\n",
    "\n",
    "    for num in list1 + list2:  \n",
    "        if num in list1 and num in list2:\n",
    "            continue  \n",
    "        uncommon.append(num)\n",
    "\n",
    "    return uncommon\n",
    "\n",
    "list1 = [1, 1, 2]\n",
    "list2 = [2, 3, 4]\n",
    "print(uncommon_elements(list1, list2))\n"
   ]
  },
  {
   "cell_type": "code",
   "execution_count": 2,
   "metadata": {},
   "outputs": [
    {
     "name": "stdout",
     "output_type": "stream",
     "text": [
      "[1, 2, 3, 4, 5, 6]\n"
     ]
    }
   ],
   "source": [
    "def uncommon_elements(list1, list2):\n",
    "    uncommon = []\n",
    "\n",
    "    for num in list1 + list2:  \n",
    "        if num in list1 and num in list2:\n",
    "            continue  \n",
    "        uncommon.append(num)\n",
    "\n",
    "    return uncommon\n",
    "\n",
    "list1 = [1, 2, 3]\n",
    "list2 = [4, 5, 6]\n",
    "print(uncommon_elements(list1, list2))\n",
    "\n"
   ]
  },
  {
   "cell_type": "code",
   "execution_count": 3,
   "metadata": {},
   "outputs": [
    {
     "name": "stdout",
     "output_type": "stream",
     "text": [
      "[2, 2, 5]\n"
     ]
    }
   ],
   "source": [
    "def uncommon_elements(list1, list2):\n",
    "    uncommon = []\n",
    "\n",
    "    for num in list1 + list2:  \n",
    "        if num in list1 and num in list2:\n",
    "            continue  \n",
    "        uncommon.append(num)\n",
    "\n",
    "    return uncommon\n",
    "\n",
    "list1 = [1, 1, 2, 3, 4, 2]\n",
    "list2 = [1, 3, 4, 5]\n",
    "print(uncommon_elements(list1, list2))\n"
   ]
  },
  {
   "cell_type": "code",
   "execution_count": null,
   "metadata": {},
   "outputs": [],
   "source": []
  }
 ],
 "metadata": {
  "kernelspec": {
   "display_name": "Python 3",
   "language": "python",
   "name": "python3"
  },
  "language_info": {
   "codemirror_mode": {
    "name": "ipython",
    "version": 3
   },
   "file_extension": ".py",
   "mimetype": "text/x-python",
   "name": "python",
   "nbconvert_exporter": "python",
   "pygments_lexer": "ipython3",
   "version": "3.10.10"
  }
 },
 "nbformat": 4,
 "nbformat_minor": 2
}
