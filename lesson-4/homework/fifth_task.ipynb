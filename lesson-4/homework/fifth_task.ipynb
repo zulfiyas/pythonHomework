{
 "cells": [
  {
   "cell_type": "code",
   "execution_count": 1,
   "metadata": {},
   "outputs": [
    {
     "name": "stdout",
     "output_type": "stream",
     "text": [
      "Password must contain an uppercase letter.\n"
     ]
    }
   ],
   "source": [
    "def password_checker():\n",
    "    password = input(\"Enter your password: \")\n",
    "\n",
    "    if len(password) < 8:\n",
    "        print(\"Password is too short.\")\n",
    "   \n",
    "    elif not any(char.isupper() for char in password):\n",
    "        print(\"Password must contain an uppercase letter.\")\n",
    "    else:\n",
    "        print(\"Password is strong.\")\n",
    "\n",
    "\n",
    "password_checker()\n"
   ]
  },
  {
   "cell_type": "code",
   "execution_count": null,
   "metadata": {},
   "outputs": [],
   "source": []
  }
 ],
 "metadata": {
  "kernelspec": {
   "display_name": "Python 3",
   "language": "python",
   "name": "python3"
  },
  "language_info": {
   "codemirror_mode": {
    "name": "ipython",
    "version": 3
   },
   "file_extension": ".py",
   "mimetype": "text/x-python",
   "name": "python",
   "nbconvert_exporter": "python",
   "pygments_lexer": "ipython3",
   "version": "3.10.10"
  }
 },
 "nbformat": 4,
 "nbformat_minor": 2
}
