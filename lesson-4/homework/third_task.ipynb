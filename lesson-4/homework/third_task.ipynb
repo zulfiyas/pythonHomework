{
 "cells": [
  {
   "cell_type": "code",
   "execution_count": 4,
   "metadata": {},
   "outputs": [
    {
     "name": "stdout",
     "output_type": "stream",
     "text": [
      "hel_lo\n"
     ]
    }
   ],
   "source": [
    "def modify_text(txt):\n",
    "    result = \"\"\n",
    "    vowels = \"aeiouAEIOU\"\n",
    "    i = 0\n",
    "\n",
    "    while i < len(txt):\n",
    "        result += txt[i]\n",
    "        \n",
    "\n",
    "        if (i + 1) % 3 == 0:\n",
    "            if i + 1 < len(txt):  \n",
    "                result += \"_\"\n",
    "        \n",
    "       \n",
    "        \n",
    "\n",
    "        i += 1\n",
    "\n",
    "    return result\n",
    "\n",
    "\n",
    "txt = \"hello\"\n",
    "print(modify_text(txt))\n",
    "\n"
   ]
  },
  {
   "cell_type": "code",
   "execution_count": 22,
   "metadata": {},
   "outputs": [
    {
     "name": "stdout",
     "output_type": "stream",
     "text": [
      "ass_alo_m\n"
     ]
    }
   ],
   "source": [
    "def modify_text(txt):\n",
    "    result = \"\"\n",
    "    vowels = \"aeiouAEIOU\"\n",
    "    i = 0\n",
    "\n",
    "    while i < len(txt):\n",
    "        result += txt[i]\n",
    "        \n",
    "\n",
    "        if (i + 1) % 3 == 0:\n",
    "            if i + 1 < len(txt):  \n",
    "                result += \"_\"\n",
    "        \n",
    "       \n",
    "        \n",
    "\n",
    "        i += 1\n",
    "\n",
    "    return result\n",
    "\n",
    "\n",
    "txt = \"assalom\"\n",
    "print(modify_text(txt))\n"
   ]
  },
  {
   "cell_type": "code",
   "execution_count": null,
   "metadata": {},
   "outputs": [
    {
     "name": "stdout",
     "output_type": "stream",
     "text": [
      "abcabc_dab_cdeabc_defabc_def_g\n"
     ]
    }
   ],
   "source": [
    "def modify_text(txt):\n",
    "    result = \"\"\n",
    "    count = 0\n",
    "    \n",
    "    for i in range(len(txt)):\n",
    "        result += txt[i]\n",
    "        count += 1\n",
    "        \n",
    "       \n",
    "        if count == 3 and i + 1 < len(txt):\n",
    "            \n",
    "            if txt[i+1] not in \"aeiouAEIOU\":\n",
    "                result += \"_\"\n",
    "            count = 0  # Reset count after adding underscore\n",
    "    \n",
    "    return result\n",
    "\n",
    "txt = \"abcabcdabcdeabcdefabcdefg\"\n",
    "print(modify_text(txt))\n"
   ]
  },
  {
   "cell_type": "code",
   "execution_count": null,
   "metadata": {},
   "outputs": [],
   "source": []
  }
 ],
 "metadata": {
  "kernelspec": {
   "display_name": "Python 3",
   "language": "python",
   "name": "python3"
  },
  "language_info": {
   "codemirror_mode": {
    "name": "ipython",
    "version": 3
   },
   "file_extension": ".py",
   "mimetype": "text/x-python",
   "name": "python",
   "nbconvert_exporter": "python",
   "pygments_lexer": "ipython3",
   "version": "3.10.10"
  }
 },
 "nbformat": 4,
 "nbformat_minor": 2
}
