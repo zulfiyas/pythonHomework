{
 "cells": [
  {
   "cell_type": "code",
   "execution_count": 1,
   "metadata": {},
   "outputs": [
    {
     "name": "stdout",
     "output_type": "stream",
     "text": [
      "Welcome to Rock, Paper, Scissors!\n",
      "Computer chose: scissors\n",
      "You win this round!\n",
      "Player: 1 | Computer: 0\n",
      "Computer chose: scissors\n",
      "Computer wins this round!\n",
      "Player: 1 | Computer: 1\n",
      "Computer chose: scissors\n",
      "You win this round!\n",
      "Player: 2 | Computer: 1\n",
      "Computer chose: scissors\n",
      "You win this round!\n",
      "Player: 3 | Computer: 1\n",
      "Computer chose: paper\n",
      "Computer wins this round!\n",
      "Player: 3 | Computer: 2\n",
      "Computer chose: rock\n",
      "You win this round!\n",
      "Player: 4 | Computer: 2\n",
      "Computer chose: scissors\n",
      "You win this round!\n",
      "Player: 5 | Computer: 2\n",
      "Congratulations! You won the match!\n"
     ]
    }
   ],
   "source": [
    "import random\n",
    "\n",
    "def play_rps():\n",
    "    choices = ['rock', 'paper', 'scissors']\n",
    "    player_score = 0\n",
    "    computer_score = 0\n",
    "\n",
    "    print(\"Welcome to Rock, Paper, Scissors!\")\n",
    "    \n",
    "   \n",
    "    while player_score < 5 and computer_score < 5:\n",
    "        \n",
    "        player_choice = input(\"Enter your choice (rock, paper, or scissors): \").lower()\n",
    "        \n",
    "        if player_choice not in choices:\n",
    "            print(\"Invalid choice! Please choose rock, paper, or scissors.\")\n",
    "            continue\n",
    "        \n",
    "       \n",
    "        computer_choice = random.choice(choices)\n",
    "        print(f\"Computer chose: {computer_choice}\")\n",
    "        \n",
    "        if player_choice == computer_choice:\n",
    "            print(\"It's a tie!\")\n",
    "        elif (player_choice == 'rock' and computer_choice == 'scissors') or \\\n",
    "             (player_choice == 'paper' and computer_choice == 'rock') or \\\n",
    "             (player_choice == 'scissors' and computer_choice == 'paper'):\n",
    "            print(\"You win this round!\")\n",
    "            player_score += 1\n",
    "        else:\n",
    "            print(\"Computer wins this round!\")\n",
    "            computer_score += 1\n",
    "\n",
    "        print(f\"Player: {player_score} | Computer: {computer_score}\")\n",
    "   \n",
    "    if player_score == 5:\n",
    "        print(\"Congratulations! You won the match!\")\n",
    "    else:\n",
    "        print(\"Sorry, you lost. Better luck next time!\")\n",
    "\n",
    "play_rps()\n"
   ]
  },
  {
   "cell_type": "code",
   "execution_count": null,
   "metadata": {},
   "outputs": [],
   "source": []
  }
 ],
 "metadata": {
  "kernelspec": {
   "display_name": "Python 3",
   "language": "python",
   "name": "python3"
  },
  "language_info": {
   "codemirror_mode": {
    "name": "ipython",
    "version": 3
   },
   "file_extension": ".py",
   "mimetype": "text/x-python",
   "name": "python",
   "nbconvert_exporter": "python",
   "pygments_lexer": "ipython3",
   "version": "3.10.10"
  }
 },
 "nbformat": 4,
 "nbformat_minor": 2
}
